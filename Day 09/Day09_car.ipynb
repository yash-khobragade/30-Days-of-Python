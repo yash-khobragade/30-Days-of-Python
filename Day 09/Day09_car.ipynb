{
 "cells": [
  {
   "cell_type": "code",
   "execution_count": null,
   "id": "53aa9fef",
   "metadata": {},
   "outputs": [
    {
     "name": "stdout",
     "output_type": "stream",
     "text": [
      "Car Details : \n",
      "Brand :  Mahindra\n",
      "Name :  XUV7OO\n",
      "Model :  AXL\n",
      "Fuel Type :  Diesel\n",
      "Car Details : \n",
      "Brand :  Tata\n",
      "Name :  Nexon\n",
      "Model :  Top\n",
      "Fuel Type :  Electric\n",
      "Battery Capacity :  80KW\n"
     ]
    }
   ],
   "source": [
    "class Car: # Main Class\n",
    "    def __init__(self, brand, name, model, fuel): # Method for creating Object\n",
    "        self.brand = brand\n",
    "        self.name = name\n",
    "        self.model = model\n",
    "        self.fuel = fuel\n",
    "\n",
    "    def display(self): # Display Method\n",
    "        print(\"Car Details : \")\n",
    "        print(\"Brand : \", self.brand)\n",
    "        print(\"Name : \", self.name)\n",
    "        print(\"Model : \", self.model)\n",
    "        print(\"Fuel Type : \", self.fuel)\n",
    "\n",
    "class Electric(Car):# Inherit class\n",
    "    def __init__(self, brand, name, model, fuel, battery_capacity):# Method for creating Object\n",
    "        super().__init__(brand, name, model, fuel) # Inherit features from main class\n",
    "        self.battery_capacity = battery_capacity\n",
    "\n",
    "    def display(self): # Polymorphism here\n",
    "        print(\"Car Details : \")\n",
    "        print(\"Brand : \", self.brand)\n",
    "        print(\"Name : \", self.name)\n",
    "        print(\"Model : \", self.model)\n",
    "        print(\"Fuel Type : \", self.fuel)\n",
    "        print(\"Battery Capacity : \", self.battery_capacity)\n",
    "\n",
    "\n",
    "XUV = Car(\"Mahindra\", \"XUV7OO\", \"AXL\", \"Diesel\") # Creating Object XUV\n",
    "\n",
    "XUV.display() # Display XUV object\n",
    "\n",
    "Nexon = Electric(\"Tata\", \"Nexon\", \"Top\", \"Electric\", \"80KW\") # Creating Object Nexon\n",
    "\n",
    "Nexon.display() # Display Nexon object"
   ]
  }
 ],
 "metadata": {
  "kernelspec": {
   "display_name": ".venv",
   "language": "python",
   "name": "python3"
  },
  "language_info": {
   "codemirror_mode": {
    "name": "ipython",
    "version": 3
   },
   "file_extension": ".py",
   "mimetype": "text/x-python",
   "name": "python",
   "nbconvert_exporter": "python",
   "pygments_lexer": "ipython3",
   "version": "3.10.0"
  }
 },
 "nbformat": 4,
 "nbformat_minor": 5
}
