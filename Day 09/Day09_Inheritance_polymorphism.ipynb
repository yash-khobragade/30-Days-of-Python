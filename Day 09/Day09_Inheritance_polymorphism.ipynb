{
 "cells": [
  {
   "cell_type": "markdown",
   "id": "cdd17177",
   "metadata": {},
   "source": [
    "Inheritance in Python"
   ]
  },
  {
   "cell_type": "markdown",
   "id": "6812d561",
   "metadata": {},
   "source": [
    "Parents House is children house, so children inherit property from parents\n",
    "\n",
    "We can also refer that parents(main) and children(sub class)"
   ]
  },
  {
   "cell_type": "code",
   "execution_count": 3,
   "id": "adf20df2",
   "metadata": {},
   "outputs": [
    {
     "name": "stdout",
     "output_type": "stream",
     "text": [
      "Feature 1 is working\n",
      "Feature 1 is working\n",
      "Feature 3 is working\n"
     ]
    }
   ],
   "source": [
    "class A: # class\n",
    "    def feature1(self): # method\n",
    "        print(\"Feature 1 is working\")\n",
    "    \n",
    "    def feature2(self): # method\n",
    "        print(\"Feature 2 is working\")\n",
    "\n",
    "class B(A): # class B inheriting from class A\n",
    "    def feature3(self):# method\n",
    "        print(\"Feature 3 is working\")\n",
    "    \n",
    "    def feature4(self):# method\n",
    "        print(\"Feature 4 is working\")\n",
    "\n",
    "a1 = A() # Object of class A (Constructor)\n",
    "\n",
    "a1.feature1() # calling method for object a1\n",
    "\n",
    "b1 = B() # Object of class B (Constructor)\n",
    "\n",
    "b1.feature1() # calling method for object b1 from class A\n",
    "b1.feature3() # calling method for object b1 from class B\n"
   ]
  },
  {
   "cell_type": "markdown",
   "id": "3a35ae46",
   "metadata": {},
   "source": [
    "Class A :               Class B :\n",
    "(Parent/Super Class)    (Child/Sub Class)\n",
    "Feature 1               Feature 1\n",
    "Feature 2               Feature 2\n",
    "                        Feature 3\n",
    "                        Feature 4\n",
    "\n"
   ]
  },
  {
   "cell_type": "markdown",
   "id": "b1e8292c",
   "metadata": {},
   "source": [
    "Polymorphism (Duck Typing)"
   ]
  },
  {
   "cell_type": "code",
   "execution_count": 5,
   "id": "7b45a7b4",
   "metadata": {},
   "outputs": [
    {
     "name": "stdout",
     "output_type": "stream",
     "text": [
      "Spell Check\n",
      "Method\n",
      "Compiling\n",
      "Running\n"
     ]
    }
   ],
   "source": [
    "class Pycharm:\n",
    "    def execute(self):\n",
    "        print(\"Compiling\")\n",
    "        print(\"Running\")\n",
    "\n",
    "class Myeditor:\n",
    "    def execute(self):\n",
    "        print(\"Spell Check\")\n",
    "        print(\"Method\")\n",
    "        print(\"Compiling\")\n",
    "        print(\"Running\")\n",
    "\n",
    "class Laptop:\n",
    "    def code(self,ide):\n",
    "        ide.execute()\n",
    "\n",
    "ide1 = Pycharm()\n",
    "ide2 = Myeditor()\n",
    "\n",
    "lap1 = Laptop()\n",
    "lap1.code(ide2)"
   ]
  }
 ],
 "metadata": {
  "kernelspec": {
   "display_name": ".venv",
   "language": "python",
   "name": "python3"
  },
  "language_info": {
   "codemirror_mode": {
    "name": "ipython",
    "version": 3
   },
   "file_extension": ".py",
   "mimetype": "text/x-python",
   "name": "python",
   "nbconvert_exporter": "python",
   "pygments_lexer": "ipython3",
   "version": "3.10.0"
  }
 },
 "nbformat": 4,
 "nbformat_minor": 5
}
