{
 "cells": [
  {
   "cell_type": "markdown",
   "id": "ca0a5730",
   "metadata": {},
   "source": [
    "Random 8 Character Password Generator"
   ]
  },
  {
   "cell_type": "code",
   "execution_count": 2,
   "id": "3317a3d2",
   "metadata": {},
   "outputs": [
    {
     "name": "stdout",
     "output_type": "stream",
     "text": [
      "AKG#tnfP\n"
     ]
    }
   ],
   "source": [
    "# importing secret, string, random modules\n",
    "import secrets\n",
    "import string\n",
    "import random\n",
    "\n",
    "letters = string.ascii_letters\n",
    "\n",
    "digits = string.digits\n",
    "\n",
    "special_chars = string.punctuation\n",
    "\n",
    "selection_list = letters + digits + special_chars\n",
    "\n",
    "password_len = 8 # password length is 8\n",
    "\n",
    "password = '' #initially password is null\n",
    "\n",
    "for i in range(password_len):\n",
    "    password += ''.join(secrets.choice(selection_list))\n",
    "\n",
    "print(password)"
   ]
  }
 ],
 "metadata": {
  "kernelspec": {
   "display_name": ".venv",
   "language": "python",
   "name": "python3"
  },
  "language_info": {
   "codemirror_mode": {
    "name": "ipython",
    "version": 3
   },
   "file_extension": ".py",
   "mimetype": "text/x-python",
   "name": "python",
   "nbconvert_exporter": "python",
   "pygments_lexer": "ipython3",
   "version": "3.10.0"
  }
 },
 "nbformat": 4,
 "nbformat_minor": 5
}
