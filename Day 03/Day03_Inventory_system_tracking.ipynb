{
 "cells": [
  {
   "cell_type": "markdown",
   "id": "0078e8ca",
   "metadata": {},
   "source": [
    "Inventory Tracking System"
   ]
  },
  {
   "cell_type": "code",
   "execution_count": 2,
   "id": "2e32440c",
   "metadata": {},
   "outputs": [
    {
     "name": "stdout",
     "output_type": "stream",
     "text": [
      "Keyboards - 12\n",
      "Mouse - 35\n",
      "Monitor - 6\n",
      "Laptop - 10\n",
      "Headphones - 15\n"
     ]
    }
   ],
   "source": [
    "# Create Inventory using Dictionary\n",
    "inventory = {\"Keyboards\":12, \"Mouse\" : 40, \"Monitor\" : 6, \"Laptop\" : 10, \"Printer\" : 3}\n",
    "\n",
    "# Add new item\n",
    "inventory[\"Headphones\"] = 15\n",
    "\n",
    "# Update quantity\n",
    "inventory[\"Mouse\"] -= 5\n",
    "\n",
    "# Remove item\n",
    "del inventory[\"Printer\"]\n",
    "\n",
    "# Printing the Inventory\n",
    "for key in inventory:\n",
    "    print(key, \"-\", inventory[key])\n",
    "\n"
   ]
  }
 ],
 "metadata": {
  "kernelspec": {
   "display_name": ".venv",
   "language": "python",
   "name": "python3"
  },
  "language_info": {
   "codemirror_mode": {
    "name": "ipython",
    "version": 3
   },
   "file_extension": ".py",
   "mimetype": "text/x-python",
   "name": "python",
   "nbconvert_exporter": "python",
   "pygments_lexer": "ipython3",
   "version": "3.10.0"
  }
 },
 "nbformat": 4,
 "nbformat_minor": 5
}
