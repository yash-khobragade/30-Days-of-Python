{
 "cells": [
  {
   "cell_type": "markdown",
   "id": "2d92c477",
   "metadata": {},
   "source": [
    "Count word freuencies in a text file"
   ]
  },
  {
   "cell_type": "code",
   "execution_count": null,
   "id": "257b5ed1",
   "metadata": {},
   "outputs": [
    {
     "name": "stdout",
     "output_type": "stream",
     "text": [
      "learn : 1\n",
      "sql : 5\n",
      "is : 1\n",
      "a : 1\n",
      "standard : 1\n",
      "language : 1\n",
      "for : 1\n",
      "storing, : 1\n",
      "manipulating : 1\n",
      "and : 2\n",
      "retrieving : 1\n",
      "data : 1\n",
      "in : 1\n",
      "databases. : 1\n",
      "our : 1\n",
      "tutorial : 1\n",
      "will : 1\n",
      "teach : 1\n",
      "you : 1\n",
      "how : 1\n",
      "to : 1\n",
      "use : 1\n",
      "in: : 1\n",
      "mysql, : 1\n",
      "server, : 1\n",
      "ms : 1\n",
      "access, : 1\n",
      "oracle, : 1\n",
      "sybase, : 1\n",
      "informix, : 1\n",
      "postgres, : 1\n",
      "other : 1\n",
      "database : 1\n",
      "systems. : 1\n"
     ]
    }
   ],
   "source": [
    "text = open('Data.txt','r') # opening file in read mode\n",
    "\n",
    "d = dict() # creating empty dictionary\n",
    "\n",
    "for line in text:\n",
    "\n",
    "    line = line.strip() # removing extra spaces\n",
    "\n",
    "    line = line.lower() # converting all words to lowercase to avoid mismatch\n",
    "\n",
    "    words = line.split() # splitting into words\n",
    "\n",
    "    for word in words:\n",
    "        if word in d: # if word is already present then increment count by 1\n",
    "            d[word] = d[word]+1\n",
    "        else: # if word is not present then count as 1\n",
    "            d[word] = 1\n",
    "\n",
    "for key in list(d.keys()): #printing words and its count\n",
    "    print(key ,\":\", d[key])"
   ]
  }
 ],
 "metadata": {
  "kernelspec": {
   "display_name": ".venv",
   "language": "python",
   "name": "python3"
  },
  "language_info": {
   "codemirror_mode": {
    "name": "ipython",
    "version": 3
   },
   "file_extension": ".py",
   "mimetype": "text/x-python",
   "name": "python",
   "nbconvert_exporter": "python",
   "pygments_lexer": "ipython3",
   "version": "3.10.0"
  }
 },
 "nbformat": 4,
 "nbformat_minor": 5
}
