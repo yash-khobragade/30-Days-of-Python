{
 "cells": [
  {
   "cell_type": "markdown",
   "id": "954e5ea1",
   "metadata": {},
   "source": [
    "File Handling in Python\n"
   ]
  },
  {
   "cell_type": "code",
   "execution_count": null,
   "id": "6d5633ac",
   "metadata": {},
   "outputs": [
    {
     "name": "stdout",
     "output_type": "stream",
     "text": [
      "Learn SQL\n",
      "SQL is a standard language for storing, manipulating and retrieving data in databases.\n",
      "\n",
      "Our SQL tutorial will teach you how to use SQL in: MySQL, SQL Server, MS Access, Oracle, Sybase, Informix, Postgres, and other database systems.\n",
      "\n",
      "\n"
     ]
    }
   ],
   "source": [
    "f = open('Data.txt', 'r') # Opening file\n",
    "\n",
    "print(f.read()) # Reading file data\n"
   ]
  },
  {
   "cell_type": "code",
   "execution_count": null,
   "id": "d2e0ed81",
   "metadata": {},
   "outputs": [
    {
     "name": "stdout",
     "output_type": "stream",
     "text": [
      "Learn SQL\n",
      "SQL is a standard language for storing, manipulating and retrieving data in databases.\n",
      "\n"
     ]
    }
   ],
   "source": [
    "f = open('Data.txt', 'r') # Opening file\n",
    "\n",
    "\n",
    "print(f.readline(),end = \"\") # Read only first line\n",
    "print(f.readline()) # It prints second line because now it has cursor on first line"
   ]
  },
  {
   "cell_type": "code",
   "execution_count": null,
   "id": "4811e21c",
   "metadata": {},
   "outputs": [],
   "source": [
    "f1 = open('abc', 'w') #  opening file in write mode and creating file if not present\n",
    "f1.write(\"yash\") # writing \n",
    "f1.close() #closing file"
   ]
  },
  {
   "cell_type": "code",
   "execution_count": null,
   "id": "ac94028e",
   "metadata": {},
   "outputs": [],
   "source": [
    "f1 = open('abc', 'a') #  opening file in append  mode and creating file if not present\n",
    "f1.write(\"23\") # writing\n",
    "f1.close() # closing file"
   ]
  },
  {
   "cell_type": "code",
   "execution_count": 18,
   "id": "2dbdd72d",
   "metadata": {},
   "outputs": [],
   "source": [
    "f1 = open('abc', 'a') # opening file\n",
    "\n",
    "for data in f: #copying data from f to f1\n",
    "    f1.write(data)\n",
    "\n",
    "f1.close() # closing f1"
   ]
  },
  {
   "cell_type": "code",
   "execution_count": null,
   "id": "dbb818df",
   "metadata": {},
   "outputs": [],
   "source": [
    "p = open('7.jpeg', 'rb') # opening image(file) in read binary mode\n",
    "\n",
    "p1 = open('07.jpeg','wb') # opening image(file) in write binary mode\n",
    "\n",
    "for i in p: # copying image\n",
    "    p1.write(i)\n",
    "\n",
    "p1.close() #closing p1"
   ]
  }
 ],
 "metadata": {
  "kernelspec": {
   "display_name": ".venv",
   "language": "python",
   "name": "python3"
  },
  "language_info": {
   "codemirror_mode": {
    "name": "ipython",
    "version": 3
   },
   "file_extension": ".py",
   "mimetype": "text/x-python",
   "name": "python",
   "nbconvert_exporter": "python",
   "pygments_lexer": "ipython3",
   "version": "3.10.0"
  }
 },
 "nbformat": 4,
 "nbformat_minor": 5
}
