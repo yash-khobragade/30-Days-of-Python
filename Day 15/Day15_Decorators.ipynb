{
 "cells": [
  {
   "cell_type": "markdown",
   "id": "138e457d",
   "metadata": {},
   "source": [
    "Decorators in Python"
   ]
  },
  {
   "cell_type": "markdown",
   "id": "11285484",
   "metadata": {},
   "source": [
    "In Python, a decorator is a design pattern that allows you to modify the functionality of a function by wrapping it in another function."
   ]
  },
  {
   "cell_type": "code",
   "execution_count": 4,
   "id": "cf54b2d5",
   "metadata": {},
   "outputs": [
    {
     "name": "stdout",
     "output_type": "stream",
     "text": [
      "Good Evening\n",
      "Hello world\n",
      "Thank you\n",
      "Execution time : 0.001002 seconds \n",
      "Good Evening\n",
      "5\n",
      "Thank you\n",
      "Execution time : 0.000000 seconds \n"
     ]
    }
   ],
   "source": [
    "import time\n",
    "\n",
    "def greet(func):\n",
    "\n",
    "    def wrapper(*args, **kwargs):\n",
    "        start = time.time()\n",
    "        print(\"Good Evening\")\n",
    "        result = func(*args, **kwargs)\n",
    "        print(\"Thank you\")\n",
    "        end = time.time()\n",
    "        print(f\"Execution time : {end-start:.6f} seconds \")\n",
    "        return result\n",
    "    return wrapper\n",
    "\n",
    "@greet\n",
    "def hello():\n",
    "    print(\"Hello world\")\n",
    "\n",
    "@greet\n",
    "def add(a,b):\n",
    "    print(a+b)\n",
    "\n",
    "hello()\n",
    "add(2,3)"
   ]
  }
 ],
 "metadata": {
  "kernelspec": {
   "display_name": ".venv",
   "language": "python",
   "name": "python3"
  },
  "language_info": {
   "codemirror_mode": {
    "name": "ipython",
    "version": 3
   },
   "file_extension": ".py",
   "mimetype": "text/x-python",
   "name": "python",
   "nbconvert_exporter": "python",
   "pygments_lexer": "ipython3",
   "version": "3.10.0"
  }
 },
 "nbformat": 4,
 "nbformat_minor": 5
}
