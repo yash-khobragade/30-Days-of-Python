{
 "cells": [
  {
   "cell_type": "markdown",
   "id": "8e6fd4a8",
   "metadata": {},
   "source": [
    "Functions in Python\n",
    "\n",
    "    Functions is a block of code that performs a specific task."
   ]
  },
  {
   "cell_type": "markdown",
   "id": "e59e99e0",
   "metadata": {},
   "source": [
    "Problem : You are given  two lists of numbers and you need to find total of eachof these list.\n"
   ]
  },
  {
   "cell_type": "code",
   "execution_count": 1,
   "id": "e64e4f6c",
   "metadata": {},
   "outputs": [
    {
     "name": "stdout",
     "output_type": "stream",
     "text": [
      "Tom's total expenses: 5024\n",
      "Joe's total expenses: 1400\n"
     ]
    }
   ],
   "source": [
    "# Find total without function \n",
    "\n",
    "tom_exp_list = [1200,564,3260]\n",
    "joe_exp_list = [200,500,700]\n",
    "\n",
    "total = 0\n",
    "for i in tom_exp_list:\n",
    "    total = total + i\n",
    "print(\"Tom's total expenses:\", total)\n",
    "\n",
    "total = 0\n",
    "for i in joe_exp_list:\n",
    "    total = total + i\n",
    "print(\"Joe's total expenses:\", total)"
   ]
  },
  {
   "cell_type": "code",
   "execution_count": null,
   "id": "2d2f1df8",
   "metadata": {},
   "outputs": [
    {
     "name": "stdout",
     "output_type": "stream",
     "text": [
      "Tom's total expense is 5024\n",
      "Joe's total expense is 1400\n"
     ]
    }
   ],
   "source": [
    "# Find total with function\n",
    "\n",
    "# defining  function to calculate total\n",
    "def calculate_total(exp):\n",
    "    total = 0\n",
    "    for item in exp:\n",
    "        total = total + item\n",
    "    return total\n",
    "\n",
    "tom_exp_list = [1200,564,3260]\n",
    "joe_exp_list = [200,500,700]\n",
    "\n",
    "# Passing arguments to function\n",
    "toms_total = calculate_total(tom_exp_list)\n",
    "joes_total = calculate_total(joe_exp_list)\n",
    "\n",
    "# Printing total\n",
    "print(f\"Tom's total expense is {toms_total}\")\n",
    "print(f\"Joe's total expense is {joes_total}\")"
   ]
  },
  {
   "cell_type": "code",
   "execution_count": null,
   "id": "7254273a",
   "metadata": {},
   "outputs": [
    {
     "name": "stdout",
     "output_type": "stream",
     "text": [
      "Total is 6\n",
      "Total is 8\n"
     ]
    }
   ],
   "source": [
    "# Function to calculate sum of two numbers\n",
    "\n",
    "\n",
    "def sum(a,b):\n",
    "    total = a+b\n",
    "    return total\n",
    "\n",
    "n  =sum(2,4)\n",
    "print(f\"Total is {n}\")\n",
    "\n",
    "# passing named arguments\n",
    "p = sum(b=3, a=5)\n",
    "print(f\"Total is {p}\")"
   ]
  },
  {
   "cell_type": "code",
   "execution_count": null,
   "id": "11b8c895",
   "metadata": {},
   "outputs": [
    {
     "name": "stdout",
     "output_type": "stream",
     "text": [
      "Total inside function is 6\n",
      "Total outside function is 0\n"
     ]
    }
   ],
   "source": [
    "# Function to calculate sum of two numbers\n",
    "\n",
    "total = 0 #Global variable\n",
    "def sum(a,b):\n",
    "    total = a+b\n",
    "    print(f\"Total inside function is {total}\")\n",
    "    return total\n",
    "\n",
    "n  =sum(2,4)\n",
    "print(f\"Total outside function is {total}\")"
   ]
  },
  {
   "cell_type": "code",
   "execution_count": null,
   "id": "214fe923",
   "metadata": {},
   "outputs": [
    {
     "name": "stdout",
     "output_type": "stream",
     "text": [
      "Total is 4\n"
     ]
    }
   ],
   "source": [
    "# Default Argument\n",
    "\n",
    "def sum(a,b=2):\n",
    "    total = a+b\n",
    "    return total\n",
    "\n",
    "n  =sum(2)\n",
    "print(f\"Total is {n}\")"
   ]
  },
  {
   "cell_type": "code",
   "execution_count": 12,
   "id": "0da3115c",
   "metadata": {},
   "outputs": [
    {
     "name": "stdout",
     "output_type": "stream",
     "text": [
      "Total is 6\n",
      "Total is 8\n"
     ]
    }
   ],
   "source": [
    "# Documentation Strings\n",
    "\n",
    "# Function to calculate sum of two numbers\n",
    "\n",
    "\n",
    "def sum(a,b):\n",
    "    \"\"\"\n",
    "    This function takes two arguments which are integer numbers\n",
    "    and it will return sum of them as an output\n",
    "    \"\"\"\n",
    "    total = a+b\n",
    "    return total\n",
    "\n",
    "n  =sum(2,4)\n",
    "print(f\"Total is {n}\")\n",
    "\n",
    "# passing named arguments\n",
    "p = sum(b=3, a=5)\n",
    "print(f\"Total is {p}\")\n"
   ]
  }
 ],
 "metadata": {
  "kernelspec": {
   "display_name": ".venv",
   "language": "python",
   "name": "python3"
  },
  "language_info": {
   "codemirror_mode": {
    "name": "ipython",
    "version": 3
   },
   "file_extension": ".py",
   "mimetype": "text/x-python",
   "name": "python",
   "nbconvert_exporter": "python",
   "pygments_lexer": "ipython3",
   "version": "3.10.0"
  }
 },
 "nbformat": 4,
 "nbformat_minor": 5
}
