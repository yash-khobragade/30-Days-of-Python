{
 "cells": [
  {
   "cell_type": "markdown",
   "id": "b6f42f30",
   "metadata": {},
   "source": [
    "Function to find sum and average of list of numbers"
   ]
  },
  {
   "cell_type": "code",
   "execution_count": 12,
   "id": "23d6ed6c",
   "metadata": {},
   "outputs": [
    {
     "name": "stdout",
     "output_type": "stream",
     "text": [
      "Sum : 174 , Average : 24.86\n"
     ]
    }
   ],
   "source": [
    "def sum_average(number):\n",
    "    total_sum = sum(number)\n",
    "    total_avg = round((sum(number) / len(number)), 2)\n",
    "    return total_sum, total_avg\n",
    "\n",
    "num = [10,20,30,4,0,50,60]\n",
    "\n",
    "s, avg = sum_average(num)\n",
    "\n",
    "print(f\"Sum : {s} , Average : {avg}\")\n"
   ]
  }
 ],
 "metadata": {
  "kernelspec": {
   "display_name": ".venv",
   "language": "python",
   "name": "python3"
  },
  "language_info": {
   "codemirror_mode": {
    "name": "ipython",
    "version": 3
   },
   "file_extension": ".py",
   "mimetype": "text/x-python",
   "name": "python",
   "nbconvert_exporter": "python",
   "pygments_lexer": "ipython3",
   "version": "3.10.0"
  }
 },
 "nbformat": 4,
 "nbformat_minor": 5
}
