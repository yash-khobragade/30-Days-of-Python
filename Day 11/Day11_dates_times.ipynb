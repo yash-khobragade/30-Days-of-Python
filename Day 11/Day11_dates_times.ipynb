{
 "cells": [
  {
   "cell_type": "markdown",
   "id": "726e99b0",
   "metadata": {},
   "source": [
    "Dates and Time in Python"
   ]
  },
  {
   "cell_type": "code",
   "execution_count": null,
   "id": "9e89f50e",
   "metadata": {},
   "outputs": [
    {
     "name": "stdout",
     "output_type": "stream",
     "text": [
      "09:26:18 07-06-2025\n"
     ]
    }
   ],
   "source": [
    "import datetime # imports datetime module\n",
    "\n",
    "date = datetime.date(2025,1,2) # calculates date\n",
    "today = datetime.date.today() # calculates todays date\n",
    "\n",
    "time = datetime.time(12,30,0) # calculates time\n",
    "now = datetime.datetime.now() # calculates current time\n",
    "\n",
    "now = now.strftime(\"%H:%M:%S %d-%m-%Y\")\n",
    "\n",
    "print(now)"
   ]
  },
  {
   "cell_type": "code",
   "execution_count": null,
   "id": "2373cfa8",
   "metadata": {},
   "outputs": [
    {
     "name": "stdout",
     "output_type": "stream",
     "text": [
      "Target Date has not passed\n"
     ]
    }
   ],
   "source": [
    "# Calculates whether target date has passed or not\n",
    "target_datetime = datetime.datetime(2030,1,2,12,30,1)\n",
    "current_datetime = datetime.datetime.now()\n",
    "\n",
    "if target_datetime < current_datetime:\n",
    "    print(\"Target Date has Passed\")\n",
    "else:\n",
    "    print(\"Target Date has not passed\")"
   ]
  },
  {
   "cell_type": "code",
   "execution_count": null,
   "id": "0f1be5f0",
   "metadata": {},
   "outputs": [
    {
     "name": "stdout",
     "output_type": "stream",
     "text": [
      "There are 8527 days between 2002-02-01 and 2025-06-07\n"
     ]
    }
   ],
   "source": [
    "# Calculates no. of days between two dates\n",
    "date1str = input(\"Enter 1st date in format DD-MM-YYYY\")\n",
    "date1 = datetime.datetime.strptime(date1str, \"%d-%m-%Y\")\n",
    "\n",
    "date2str = input(\"Enter 2nd date in format DD-MM-YYYY\")\n",
    "date2 = datetime.datetime.strptime(date2str, \"%d-%m-%Y\")\n",
    "\n",
    "date_diff = abs(date1.date() - date2.date())\n",
    "num_days = date_diff.days\n",
    "\n",
    "print(f\"There are {num_days} days between {date1.date()} and {date2.date()}\")\n"
   ]
  },
  {
   "cell_type": "markdown",
   "id": "1294f503",
   "metadata": {},
   "source": []
  }
 ],
 "metadata": {
  "kernelspec": {
   "display_name": ".venv",
   "language": "python",
   "name": "python3"
  },
  "language_info": {
   "codemirror_mode": {
    "name": "ipython",
    "version": 3
   },
   "file_extension": ".py",
   "mimetype": "text/x-python",
   "name": "python",
   "nbconvert_exporter": "python",
   "pygments_lexer": "ipython3",
   "version": "3.10.0"
  }
 },
 "nbformat": 4,
 "nbformat_minor": 5
}
