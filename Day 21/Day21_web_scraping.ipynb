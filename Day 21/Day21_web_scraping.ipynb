{
 "cells": [
  {
   "cell_type": "markdown",
   "id": "e6fcc839",
   "metadata": {},
   "source": [
    "Web Scraping Using BeautifulSoup"
   ]
  },
  {
   "cell_type": "markdown",
   "id": "71af41aa",
   "metadata": {},
   "source": [
    "Scraping headlines from https://www.indiatoday.in/\n"
   ]
  },
  {
   "cell_type": "markdown",
   "id": "6a2458a7",
   "metadata": {},
   "source": [
    "Method 1: Using BeautifulSoup and requests module\n",
    "\n",
    "Problem : Here by using requests  module  we can't get all the headlines from the site because the website uses JavaScript to dynamically load headlines after the page loads.\n",
    "\n",
    "Here we get only 24 headlines"
   ]
  },
  {
   "cell_type": "code",
   "execution_count": 3,
   "id": "0be55483",
   "metadata": {},
   "outputs": [
    {
     "name": "stdout",
     "output_type": "stream",
     "text": [
      "6 Dreamliners among 7 Air India flights cancelled amid tough post-crash checks\n",
      "Real end, not just a ceasefire: Trump's endgame on Iran-Israel conflict\n",
      "New Air India crash videos show students jumping off balcony as smoke billows\n",
      "UP woman elopes with lover, husband says spared from Raja Raghuvanshi-like fate\n",
      "I wasn't on Air India Flight 171, but I haven't stopped reliving the horror\n",
      "Why a Ukraine-style evacuation of Indians is not possible in Iran\n",
      "Nothing wrong: Akal Takht head granthi justifies Punjab YouTuber's murder\n",
      "Free car wash: Rainwater gushes from Karnataka flyover 15 days after opening\n",
      "I refused BCCI's offer of Test captaincy: Jasprit Bumrah\n",
      "Not for Iran ceasefire like publicity-seeking Macron said: Trump on early G7 exit Live Updates\n",
      "Naga delegation urges UK museum to return ancestral remains from colonial era\n",
      "Jackal, jackal, jackal: Pakistani-Americans rally against Asim Munir in DC\n",
      "Was Air India CEO's post-crash speech plagiarised? Social media users debate\n",
      "Khalistanis plot 'ambush' during PM Modi's Canada visit\n",
      "Iran 3 years away from nuclear bomb, not months: US intel report counters Israel\n",
      "Chinese chatter: Why Beijing is worried about Modi's G7 visit\n",
      "The shadow of Sanjay: How Indira Gandhi's son shaped the Emergency\n",
      "India's quantum breakthrough: This is the simplest explanation you will find\n",
      "Tinder launches double date feature so you and your bestie can fall in love together\n",
      "As missiles criss-cross Iran, traumatised Indian students appeal for evacuation\n",
      "The facemaker of World War 1: How Harold Gillies gave shattered soldiers a new self\n",
      "Live: Israel says Iranian military leadership is 'on the run'\n",
      "Not Karnataka High Court's role to demand apology: Top court slams Thug Life ban\n",
      "Why the Strait of Hormuz matters to India amid Israel-Iran tensions\n"
     ]
    }
   ],
   "source": [
    "from bs4 import BeautifulSoup\n",
    "import requests\n",
    "\n",
    "url = \"https://www.indiatoday.in/\"\n",
    "page = requests.get(url)\n",
    "    \n",
    "soup = BeautifulSoup(page.text, 'html')\n",
    "headlines = soup.find_all('div', class_=\"B1S3_content__wrap__9mSB6\")\n",
    "\n",
    "\n",
    "for h in headlines:\n",
    "    print(h.h2.text)\n"
   ]
  },
  {
   "cell_type": "markdown",
   "id": "8ce8ef01",
   "metadata": {},
   "source": [
    "Method 2 : Using Selenium and BeautifulSoup module\n",
    "\n",
    "In this method we can get the  all the data dynamically.\n",
    "\n",
    "Here we get all the 60 headlines"
   ]
  },
  {
   "cell_type": "code",
   "execution_count": null,
   "id": "dc7e9e77",
   "metadata": {},
   "outputs": [
    {
     "name": "stdout",
     "output_type": "stream",
     "text": [
      "1. Trump says US won't take out Khamenei for now, wants Iran's unconditional surrender\n",
      "2. No major concerns found in Air India Boeing 787 jets: Aviation body after checks\n",
      "3. Real end, not just a ceasefire: Trump's endgame on Iran-Israel conflict\n",
      "4. Khalistanis plot 'ambush' during PM Modi's Canada visit\n",
      "5. I wasn't on Air India Flight 171, but I haven't stopped reliving the horror\n",
      "6. Why a Ukraine-style evacuation of Indians is not possible in Iran\n",
      "7. 12 flights hit, water enters terminal 1 after heavy rain lashes Delhi-NCR\n",
      "8. New Air India crash videos show students jumping off balcony as smoke billows\n",
      "9. Genelia Deshmukh joins long work hours debate, says 10-hour shifts not impossible\n",
      "10. Bomb that Israel needs to destroy Iranian site key to making nukes\n",
      "11. I refused BCCI's offer of Test captaincy: Jasprit Bumrah\n",
      "12. UP woman elopes with lover, husband says spared from Raja Raghuvanshi-like fate\n",
      "13. Was Air India CEO's post-crash speech plagiarised? Social media users debate\n",
      "14. 6 Dreamliners among 7 Air India flights cancelled amid tough post-crash checks\n",
      "15. Alliance only with like-minded: Sharad Pawar refutes tie-up rumours with Ajit Pawar\n",
      "16. Free car wash: Rainwater gushes from Karnataka flyover 15 days after opening\n",
      "17. The shadow of Sanjay: How Indira Gandhi's son shaped the Emergency\n",
      "18. Jackal, jackal, jackal: Pakistani-Americans rally against Asim Munir in DC\n",
      "19. Live: Trump says US has taken control of skies over Iran\n",
      "20. Man fails to pay back loan, wife tied to tree by moneylender in Andhra\n",
      "21. The facemaker of World War 1: How Harold Gillies gave shattered soldiers a new self\n",
      "22. Iran 3 years away from nuclear bomb, not months: US intel report counters Israel\n",
      "23. Tinder launches double date feature so you and your bestie can fall in love together\n",
      "24. Racism fears led UK to omit data on Pakistani men in grooming gangs\n",
      "25. I am not scared: Veteran actor Aruna Irani on beating cancer twice\n",
      "26. The Naked Gun trailer: Liam Neeson, Pamela Anderson lead action-comedy reboot\n",
      "27. Akshay Kumar draws stunt ideas from Tom & Jerry, calls it the most violent show\n",
      "28. Akshay Kumar gives Hera Pheri fans hope after Paresh Rawal's exit\n",
      "29. Xiaomi Mix Flip 2 teased: All you need to know about Galaxy Z Flip 7 rival\n",
      "30. Mark Zuckerberg teases major smart glasses announcement for June 20\n",
      "31. Meta says your chats with Meta AI are not private, could be seen by everyone\n",
      "32. Nothing confirms Phone 3 processor, launch set for July 1 in India and globally\n",
      "33. I refused BCCI's offer of Test captaincy: Jasprit Bumrah\n",
      "34. Watch: Shubman Gill-led Team India reach Leeds for Headingley Test\n",
      "35. Harshit Rana added to India's 18-man squad against England\n",
      "36. ENG vs IND series-winning captain to get Pataudi medal on Sachin's request\n",
      "37. New MIT-WPU lab sparks innovation in lithium and sodium batteries for India\n",
      "38. Your morning coffee might be adding years to your life, science confirms\n",
      "39. Astronomers locate universe's 'missing' matter hiding in plain space\n",
      "40. Europe's Proba-3 creates artificial solar eclipse in space. Pics inside\n",
      "41. VinFast partners with Global Assure to strengthen customer service network in India\n",
      "42. Hero teases Vida VX2 electric scooter ahead of launch on July 1\n",
      "43. BMW F 450 GS spotted testing. Launch expected this year\n",
      "44. Maruti Suzuki inaugurates India's largest in-plant railway siding at Manesar plant\n",
      "45. Sensex ends 213 points lower, Nifty below 24,900; Tata Motors down 2%\n",
      "46. Savings account interest rates see sharp drop. Do you really need one?\n",
      "47. Mule accounts, url masking: How forex trading platform OctaFX scammed investors\n",
      "48. Over 80% jump: The city that outpaced Delhi, Mumbai in property price growth\n",
      "49. I wasn't on Air India Flight 171, but I haven't stopped reliving the horror\n",
      "50. Victim mentality is your worst enemy. How to come out of it\n",
      "51. Why the secret to feeling better might be in your dining room\n",
      "52. Bali, Thailand, Vietnam, now Philippines: Is Southeast Asia India's new backyard?\n",
      "53. Trump says US won't take out Khamenei for now, wants Iran's unconditional surrender\n",
      "54. Bomb that Israel needs to destroy Iranian site key to making nukes\n",
      "55. US bolsters military presence in Middle East amid rising Israel-Iran tensions\n",
      "56. Indian-origin professor wins Godel prize for breakthrough in computing\n",
      "57. Know Your Laws: Domestic Violence Act\n",
      "58. Not Karnataka High Court's role to demand apology: Top court slams Thug Life ban\n",
      "59. Supreme Court pauses contempt action against 6 Bengal cops over 2019 Howrah incident\n",
      "60. Tamil Nadu police officer arrested in teen abduction case after High Court order\n"
     ]
    }
   ],
   "source": [
    "from selenium import webdriver\n",
    "from bs4 import BeautifulSoup\n",
    "import time\n",
    "\n",
    "# Launch browser\n",
    "driver = webdriver.Chrome() \n",
    "driver.get(\"https://www.indiatoday.in/\")\n",
    "\n",
    "# Wait for content to load \n",
    "time.sleep(10)\n",
    "\n",
    "# Get rendered HTML\n",
    "soup = BeautifulSoup(driver.page_source, 'html.parser')\n",
    "\n",
    "headlines = soup.find_all('div', class_='B1S3_content__wrap__9mSB6')\n",
    "\n",
    "for i, h in enumerate(headlines, start=1):\n",
    "    if h.h2:\n",
    "        print(f\"{i}. {h.h2.text.strip()}\")\n",
    "\n",
    "driver.quit()\n"
   ]
  }
 ],
 "metadata": {
  "kernelspec": {
   "display_name": ".venv",
   "language": "python",
   "name": "python3"
  },
  "language_info": {
   "codemirror_mode": {
    "name": "ipython",
    "version": 3
   },
   "file_extension": ".py",
   "mimetype": "text/x-python",
   "name": "python",
   "nbconvert_exporter": "python",
   "pygments_lexer": "ipython3",
   "version": "3.10.0"
  }
 },
 "nbformat": 4,
 "nbformat_minor": 5
}
