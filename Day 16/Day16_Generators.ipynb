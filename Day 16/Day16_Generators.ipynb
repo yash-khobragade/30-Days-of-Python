{
 "cells": [
  {
   "cell_type": "markdown",
   "id": "35df3695",
   "metadata": {},
   "source": [
    "Generators in Python"
   ]
  },
  {
   "cell_type": "markdown",
   "id": "35711af8",
   "metadata": {},
   "source": [
    "A generator function is a special type of function that returns an iterator object.\n",
    "Instead of using return to send back a single value, generator functions use yield to produce a series of results over time. "
   ]
  },
  {
   "cell_type": "markdown",
   "id": "fe8fd2de",
   "metadata": {},
   "source": [
    "yield is used to pause a function's execution, send a value back to the caller, and preserve the function's internal state.\n",
    "next()  is used to return the next item form the iterator"
   ]
  },
  {
   "cell_type": "code",
   "execution_count": 9,
   "id": "447a90ee",
   "metadata": {},
   "outputs": [
    {
     "name": "stdout",
     "output_type": "stream",
     "text": [
      "cnn\n",
      "espn\n"
     ]
    }
   ],
   "source": [
    "# Generator Function\n",
    "def remote_control_next():\n",
    "    yield \"cnn\"\n",
    "    yield \"espn\"\n",
    "\n",
    "itr = remote_control_next() # creates iterator object as the object is created is from generator function\n",
    "\n",
    "print(next(itr)) # returns cnn\n",
    "print(next(itr)) # returns espn"
   ]
  },
  {
   "cell_type": "markdown",
   "id": "6e0ddb84",
   "metadata": {},
   "source": [
    "The for loop implicitly handles the iteration protocol"
   ]
  },
  {
   "cell_type": "code",
   "execution_count": 11,
   "id": "4af42cac",
   "metadata": {},
   "outputs": [
    {
     "name": "stdout",
     "output_type": "stream",
     "text": [
      "cnn\n",
      "espn\n"
     ]
    }
   ],
   "source": [
    "for c in remote_control_next():\n",
    "    print(c) # prints cnn and espn from generator func"
   ]
  },
  {
   "cell_type": "markdown",
   "id": "fbb1909b",
   "metadata": {},
   "source": [
    "Fibonacci Sequence using Generator\n",
    "\n",
    "Fibonacii Sequence : 0,1,1,2,3,5,8,13,......."
   ]
  },
  {
   "cell_type": "code",
   "execution_count": null,
   "id": "7a8aa2b5",
   "metadata": {},
   "outputs": [
    {
     "name": "stdout",
     "output_type": "stream",
     "text": [
      "0\n",
      "1\n",
      "1\n",
      "2\n",
      "3\n",
      "5\n",
      "8\n",
      "13\n",
      "21\n",
      "34\n"
     ]
    }
   ],
   "source": [
    "# calculates fibonacii in the range between 0 to 50\n",
    "def fib(): # function to calculate fibonacii sequence\n",
    "    a, b = 0, 1\n",
    "    while True:\n",
    "        yield a\n",
    "        a, b = b, a+b\n",
    "\n",
    "for f in fib():\n",
    "    if f > 50:\n",
    "        break\n",
    "    print(f)"
   ]
  }
 ],
 "metadata": {
  "kernelspec": {
   "display_name": ".venv",
   "language": "python",
   "name": "python3"
  },
  "language_info": {
   "codemirror_mode": {
    "name": "ipython",
    "version": 3
   },
   "file_extension": ".py",
   "mimetype": "text/x-python",
   "name": "python",
   "nbconvert_exporter": "python",
   "pygments_lexer": "ipython3",
   "version": "3.10.0"
  }
 },
 "nbformat": 4,
 "nbformat_minor": 5
}
