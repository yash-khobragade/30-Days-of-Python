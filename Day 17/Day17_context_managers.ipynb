{
 "cells": [
  {
   "cell_type": "markdown",
   "id": "20feb4fc",
   "metadata": {},
   "source": [
    "Context Managers in Python"
   ]
  },
  {
   "cell_type": "code",
   "execution_count": null,
   "id": "cc43dfdd",
   "metadata": {},
   "outputs": [
    {
     "name": "stdout",
     "output_type": "stream",
     "text": [
      "init method called\n",
      "Opening File\n",
      "Learn SQL\n",
      "SQL is a standard language for storing, manipulating and retrieving data in databases.\n",
      "\n",
      "Our SQL tutorial will teach you how to use SQL in: MySQL, SQL Server, MS Access, Oracle, Sybase, Informix, Postgres, and other database systems.\n",
      "\n",
      "\n",
      "Closing file\n"
     ]
    }
   ],
   "source": [
    "class contextManager:\n",
    "    def __init__(self, filename, mode):\n",
    "        print(\"init method called\")\n",
    "        self.filename = filename\n",
    "        self.mode = mode\n",
    "        self.file = None\n",
    "\n",
    "    def __enter__(self):\n",
    "        try:\n",
    "            print(\"Opening File\")\n",
    "            self.file = open(self.filename, self.mode)\n",
    "            return self.file\n",
    "        except Exception as e:\n",
    "            print(f\"Failed to open file: {e}\")\n",
    "            return None\n",
    "\n",
    "    def __exit__(self, exc_typ, exc_val, exc_traceback):\n",
    "        if exc_typ:\n",
    "            print(f\"Error occurred: {exc_val}\")\n",
    "        if self.file:\n",
    "            print(\"Closing file\")\n",
    "            self.file.close()\n",
    "\n",
    "\n",
    "filename = \"Data.txt\"  \n",
    "with contextManager(filename, \"r\") as file:\n",
    "    if file:\n",
    "        read = file.read()\n",
    "        print(read)\n",
    "    else:\n",
    "        print(\"File could not be opened.\")\n"
   ]
  }
 ],
 "metadata": {
  "kernelspec": {
   "display_name": ".venv",
   "language": "python",
   "name": "python3"
  },
  "language_info": {
   "codemirror_mode": {
    "name": "ipython",
    "version": 3
   },
   "file_extension": ".py",
   "mimetype": "text/x-python",
   "name": "python",
   "nbconvert_exporter": "python",
   "pygments_lexer": "ipython3",
   "version": "3.10.0"
  }
 },
 "nbformat": 4,
 "nbformat_minor": 5
}
