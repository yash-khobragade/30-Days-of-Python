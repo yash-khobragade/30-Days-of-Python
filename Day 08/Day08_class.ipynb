{
 "cells": [
  {
   "cell_type": "markdown",
   "id": "4c02efc8",
   "metadata": {},
   "source": [
    "Car class with attributes and a display method"
   ]
  },
  {
   "cell_type": "code",
   "execution_count": 2,
   "id": "b8db5574",
   "metadata": {},
   "outputs": [
    {
     "name": "stdout",
     "output_type": "stream",
     "text": [
      "Car Details : \n",
      "Brand :  Mahindra\n",
      "Name :  XUV7OO\n",
      "Model :  AXL\n",
      "Fuel Type :  Diesel\n",
      "Transmission :  Manual\n"
     ]
    }
   ],
   "source": [
    "class Car: # Class\n",
    "    def __init__(self, brand, name, model, fuel, transmission): # Method for creating Object\n",
    "        self.brand = brand\n",
    "        self.name = name\n",
    "        self.model = model\n",
    "        self.fuel = fuel\n",
    "        self.transmission = transmission\n",
    "\n",
    "    def display(self): # Display Method\n",
    "        print(\"Car Details : \")\n",
    "        print(\"Brand : \", self.brand)\n",
    "        print(\"Name : \", self.name)\n",
    "        print(\"Model : \", self.model)\n",
    "        print(\"Fuel Type : \", self.fuel)\n",
    "        print(\"Transmission : \", self.transmission)\n",
    "\n",
    "XUV = Car(\"Mahindra\", \"XUV7OO\", \"AXL\", \"Diesel\", \"Manual\") # Creating Object XUV\n",
    "\n",
    "XUV.display() # Display XUV object"
   ]
  }
 ],
 "metadata": {
  "kernelspec": {
   "display_name": ".venv",
   "language": "python",
   "name": "python3"
  },
  "language_info": {
   "codemirror_mode": {
    "name": "ipython",
    "version": 3
   },
   "file_extension": ".py",
   "mimetype": "text/x-python",
   "name": "python",
   "nbconvert_exporter": "python",
   "pygments_lexer": "ipython3",
   "version": "3.10.0"
  }
 },
 "nbformat": 4,
 "nbformat_minor": 5
}
