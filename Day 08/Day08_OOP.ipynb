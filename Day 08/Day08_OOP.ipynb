{
 "cells": [
  {
   "cell_type": "markdown",
   "id": "4c482262",
   "metadata": {},
   "source": [
    "Class and Object in Python"
   ]
  },
  {
   "cell_type": "markdown",
   "id": "ffbf2a68",
   "metadata": {},
   "source": [
    "We can refer Variables as Attributes for class\n",
    "also we can refer Methods(Function) as Behaviour"
   ]
  },
  {
   "cell_type": "code",
   "execution_count": 5,
   "id": "8d401a48",
   "metadata": {},
   "outputs": [
    {
     "name": "stdout",
     "output_type": "stream",
     "text": [
      "i5, 16gb, 1TB\n",
      "i5, 16gb, 1TB\n"
     ]
    }
   ],
   "source": [
    "class Computer:\n",
    "    def config(self): # This is method\n",
    "        print(\"i5, 16gb, 1TB\")\n",
    "    \n",
    "com1 = Computer() # this is object of computer class\n",
    "\n",
    "Computer.config(com1) # here we are calling config method from Computer class for object com1\n",
    "\n",
    "com1.config() # here the object com1 is itself calling config method \n",
    "\n"
   ]
  }
 ],
 "metadata": {
  "kernelspec": {
   "display_name": ".venv",
   "language": "python",
   "name": "python3"
  },
  "language_info": {
   "codemirror_mode": {
    "name": "ipython",
    "version": 3
   },
   "file_extension": ".py",
   "mimetype": "text/x-python",
   "name": "python",
   "nbconvert_exporter": "python",
   "pygments_lexer": "ipython3",
   "version": "3.10.0"
  }
 },
 "nbformat": 4,
 "nbformat_minor": 5
}
