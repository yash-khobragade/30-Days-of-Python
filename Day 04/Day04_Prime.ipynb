{
 "cells": [
  {
   "cell_type": "markdown",
   "id": "62cb2e6b",
   "metadata": {},
   "source": [
    "User Entered Number Prime or Not"
   ]
  },
  {
   "cell_type": "code",
   "execution_count": 12,
   "id": "bd1d4d97",
   "metadata": {},
   "outputs": [
    {
     "name": "stdout",
     "output_type": "stream",
     "text": [
      "10 is not a prime number.\n"
     ]
    }
   ],
   "source": [
    "# Enter the Number\n",
    "\n",
    "number = int(input(\"Enter the Number : \"))\n",
    "\n",
    "# Checking for condition greater than 1\n",
    "if number > 1:\n",
    "    for i in range(2,number):\n",
    "        if  number % i == 0:\n",
    "            print(f\"{number} is not a prime number.\")\n",
    "            break\n",
    "        else:\n",
    "            print(f\"{number} is a prime number.\")\n",
    "            break\n",
    "# Checking for a condition less or equal to 1\n",
    "else :\n",
    "    print(f\"{number} is not a prime number, must be greater than 1.\")\n"
   ]
  }
 ],
 "metadata": {
  "kernelspec": {
   "display_name": ".venv",
   "language": "python",
   "name": "python3"
  },
  "language_info": {
   "codemirror_mode": {
    "name": "ipython",
    "version": 3
   },
   "file_extension": ".py",
   "mimetype": "text/x-python",
   "name": "python",
   "nbconvert_exporter": "python",
   "pygments_lexer": "ipython3",
   "version": "3.10.0"
  }
 },
 "nbformat": 4,
 "nbformat_minor": 5
}
