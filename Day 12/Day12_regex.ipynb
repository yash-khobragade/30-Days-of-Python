{
 "cells": [
  {
   "cell_type": "markdown",
   "id": "d32241df",
   "metadata": {},
   "source": [
    "Validate gmail addresses using regex"
   ]
  },
  {
   "cell_type": "code",
   "execution_count": null,
   "id": "1e8da069",
   "metadata": {},
   "outputs": [
    {
     "name": "stdout",
     "output_type": "stream",
     "text": [
      "The gmail address is valid.\n"
     ]
    }
   ],
   "source": [
    "import re\n",
    "\n",
    "address = input(\"Enter you gmail address \")\n",
    "\n",
    "pattern = \"[a-zA-Z\\d\\.]+@gmail\\.com\"\n",
    "matches = re.match(pattern,address)\n",
    "\n",
    "if(matches):\n",
    "    print(\"The gmail address is valid.\")\n",
    "else:\n",
    "    print(\"Enter valid gmail address\")"
   ]
  }
 ],
 "metadata": {
  "kernelspec": {
   "display_name": ".venv",
   "language": "python",
   "name": "python3"
  },
  "language_info": {
   "codemirror_mode": {
    "name": "ipython",
    "version": 3
   },
   "file_extension": ".py",
   "mimetype": "text/x-python",
   "name": "python",
   "nbconvert_exporter": "python",
   "pygments_lexer": "ipython3",
   "version": "3.10.0"
  }
 },
 "nbformat": 4,
 "nbformat_minor": 5
}
