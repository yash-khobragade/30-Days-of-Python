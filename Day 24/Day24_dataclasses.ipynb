{
 "cells": [
  {
   "cell_type": "markdown",
   "id": "09e85a22",
   "metadata": {},
   "source": [
    "Dataclasses in Python"
   ]
  },
  {
   "cell_type": "markdown",
   "id": "01fb7236",
   "metadata": {},
   "source": [
    "Dataclass module is introduced in Python 3.7 as a utility tool to make structured classes specially for storing data.                              These classes hold certain properties and functions to deal specifically with the data and its representation."
   ]
  },
  {
   "cell_type": "code",
   "execution_count": 5,
   "id": "b7f8c78a",
   "metadata": {},
   "outputs": [
    {
     "name": "stdout",
     "output_type": "stream",
     "text": [
      "📚 Book Details:\n",
      "• Title            : Atomic Habits\n",
      "• Author           : James Clear\n",
      "• ISBN Number      : 978-1847941831\n",
      "• Publication Year : 2018\n"
     ]
    }
   ],
   "source": [
    "from dataclasses import dataclass\n",
    "\n",
    "@dataclass\n",
    "class library_book():# Dataclass used to store the book details.\n",
    "    title: str\n",
    "    author: str\n",
    "    isbn_number: str\n",
    "    publication_year: str\n",
    "\n",
    "    def display_details(self): # Method to display book details\n",
    "        print(\"📚 Book Details:\")\n",
    "        print(f\"• Title            : {self.title}\")\n",
    "        print(f\"• Author           : {self.author}\")\n",
    "        print(f\"• ISBN Number      : {self.isbn_number}\")\n",
    "        print(f\"• Publication Year : {self.publication_year}\")\n",
    "\n",
    "atomic_habits = library_book(title=\"Atomic Habits\", author=\"James Clear\", isbn_number=\"978-1847941831\", publication_year=\"2018\") # creating instance for dataclass\n",
    "atomic_habits.display_details() # Display the book details"
   ]
  }
 ],
 "metadata": {
  "kernelspec": {
   "display_name": ".venv",
   "language": "python",
   "name": "python3"
  },
  "language_info": {
   "codemirror_mode": {
    "name": "ipython",
    "version": 3
   },
   "file_extension": ".py",
   "mimetype": "text/x-python",
   "name": "python",
   "nbconvert_exporter": "python",
   "pygments_lexer": "ipython3",
   "version": "3.10.0"
  }
 },
 "nbformat": 4,
 "nbformat_minor": 5
}
