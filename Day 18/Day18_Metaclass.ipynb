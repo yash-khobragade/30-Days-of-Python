{
 "cells": [
  {
   "cell_type": "markdown",
   "id": "d2a55de8",
   "metadata": {},
   "source": [
    "Metaclasses in python"
   ]
  },
  {
   "cell_type": "markdown",
   "id": "31c83b6e",
   "metadata": {},
   "source": [
    "Enforce a naming convention with a metaclass"
   ]
  },
  {
   "cell_type": "code",
   "execution_count": 3,
   "id": "07551d40",
   "metadata": {},
   "outputs": [
    {
     "data": {
      "text/plain": [
       "<__main__.MYCLASS at 0x18b2dcec2b0>"
      ]
     },
     "execution_count": 3,
     "metadata": {},
     "output_type": "execute_result"
    }
   ],
   "source": [
    "class UpperCaseMeta(type):\n",
    "    def __new__(cls, name, bases, dct):\n",
    "        if name != name.upper():\n",
    "            raise TypeError(\"Class names must be in uppercase\")\n",
    "        return super().__new__(cls, name, bases, dct)\n",
    "\n",
    "class MYCLASS(metaclass=UpperCaseMeta):\n",
    "    pass\n",
    "\n",
    "MYCLASS()\n"
   ]
  },
  {
   "cell_type": "code",
   "execution_count": 5,
   "id": "95ce6178",
   "metadata": {},
   "outputs": [
    {
     "ename": "TypeError",
     "evalue": "Class names must be in uppercase",
     "output_type": "error",
     "traceback": [
      "\u001b[1;31m---------------------------------------------------------------------------\u001b[0m",
      "\u001b[1;31mTypeError\u001b[0m                                 Traceback (most recent call last)",
      "Cell \u001b[1;32mIn[5], line 1\u001b[0m\n\u001b[1;32m----> 1\u001b[0m \u001b[38;5;28;01mclass\u001b[39;00m\u001b[38;5;250m \u001b[39m\u001b[38;5;21;01mmyclass\u001b[39;00m(metaclass\u001b[38;5;241m=\u001b[39mUpperCaseMeta):\n\u001b[0;32m      2\u001b[0m     \u001b[38;5;28;01mpass\u001b[39;00m\n",
      "Cell \u001b[1;32mIn[3], line 4\u001b[0m, in \u001b[0;36mUpperCaseMeta.__new__\u001b[1;34m(cls, name, bases, dct)\u001b[0m\n\u001b[0;32m      2\u001b[0m \u001b[38;5;28;01mdef\u001b[39;00m\u001b[38;5;250m \u001b[39m\u001b[38;5;21m__new__\u001b[39m(\u001b[38;5;28mcls\u001b[39m, name, bases, dct):\n\u001b[0;32m      3\u001b[0m     \u001b[38;5;28;01mif\u001b[39;00m name \u001b[38;5;241m!=\u001b[39m name\u001b[38;5;241m.\u001b[39mupper():\n\u001b[1;32m----> 4\u001b[0m         \u001b[38;5;28;01mraise\u001b[39;00m \u001b[38;5;167;01mTypeError\u001b[39;00m(\u001b[38;5;124m\"\u001b[39m\u001b[38;5;124mClass names must be in uppercase\u001b[39m\u001b[38;5;124m\"\u001b[39m)\n\u001b[0;32m      5\u001b[0m     \u001b[38;5;28;01mreturn\u001b[39;00m \u001b[38;5;28msuper\u001b[39m()\u001b[38;5;241m.\u001b[39m\u001b[38;5;21m__new__\u001b[39m(\u001b[38;5;28mcls\u001b[39m, name, bases, dct)\n",
      "\u001b[1;31mTypeError\u001b[0m: Class names must be in uppercase"
     ]
    }
   ],
   "source": [
    "class myclass(metaclass=UpperCaseMeta):\n",
    "    pass\n"
   ]
  }
 ],
 "metadata": {
  "kernelspec": {
   "display_name": ".venv",
   "language": "python",
   "name": "python3"
  },
  "language_info": {
   "codemirror_mode": {
    "name": "ipython",
    "version": 3
   },
   "file_extension": ".py",
   "mimetype": "text/x-python",
   "name": "python",
   "nbconvert_exporter": "python",
   "pygments_lexer": "ipython3",
   "version": "3.10.0"
  }
 },
 "nbformat": 4,
 "nbformat_minor": 5
}
