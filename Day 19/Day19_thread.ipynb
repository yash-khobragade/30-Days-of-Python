{
 "cells": [
  {
   "cell_type": "markdown",
   "id": "67be7e9e",
   "metadata": {},
   "source": [
    "Multithreading in Python                        \n",
    "(Better for io bound tasks (waiting around))"
   ]
  },
  {
   "cell_type": "code",
   "execution_count": 9,
   "id": "82a1668b",
   "metadata": {},
   "outputs": [
    {
     "name": "stdout",
     "output_type": "stream",
     "text": [
      "You finish walking Sheru\n",
      "You take out the trash\n",
      "You get the mail\n"
     ]
    }
   ],
   "source": [
    "import threading\n",
    "import time\n",
    "\n",
    "def walk_dog(name):\n",
    "    time.sleep(8)\n",
    "    print(f\"You finish walking {name}\")\n",
    "\n",
    "def take_out_trash():\n",
    "    time.sleep(2)\n",
    "    print(\"You take out the trash\")\n",
    "\n",
    "def get_mail():\n",
    "    time.sleep(4)\n",
    "    print(\"You get the mail\")\n",
    "\n",
    "walk_dog(\"Sheru\")\n",
    "take_out_trash()\n",
    "get_mail()"
   ]
  },
  {
   "cell_type": "code",
   "execution_count": 10,
   "id": "42db7e43",
   "metadata": {},
   "outputs": [
    {
     "name": "stdout",
     "output_type": "stream",
     "text": [
      "You take out the trash\n",
      "You get the mail\n",
      "You finish walking Sheru\n",
      "All threads are finished !\n"
     ]
    }
   ],
   "source": [
    "t1 = threading.Thread(target=walk_dog, args=(\"Sheru\", ))\n",
    "t1.start()\n",
    "\n",
    "t2 = threading.Thread(target=take_out_trash)\n",
    "t2.start()\n",
    "\n",
    "t3 = threading.Thread(target=get_mail)\n",
    "t3.start()\n",
    "\n",
    "t1.join()\n",
    "t2.join()\n",
    "t3.join()\n",
    "\n",
    "print(\"All threads are finished !\")"
   ]
  },
  {
   "cell_type": "markdown",
   "id": "114608be",
   "metadata": {},
   "source": [
    "Multiprocessing in Python                       \n",
    "(Better for cpu bound tasks (heavy cpu usage))"
   ]
  },
  {
   "cell_type": "code",
   "execution_count": 10,
   "id": "e894d02e",
   "metadata": {},
   "outputs": [
    {
     "name": "stdout",
     "output_type": "stream",
     "text": [
      "finished in : 17056.8238099  seconds\n"
     ]
    }
   ],
   "source": [
    "from multiprocessing import Process, cpu_count\n",
    "import time\n",
    "\n",
    "def counter(num):\n",
    "    count = 0\n",
    "    while count < num:\n",
    "        count += 1\n",
    "\n",
    "def main():\n",
    "\n",
    "    a = Process(target=counter, args=(250000,))\n",
    "    b = Process(target=counter, args=(250000,))\n",
    "    c = Process(target=counter, args=(250000,))\n",
    "    d = Process(target=counter, args=(250000,))\n",
    "\n",
    "    a.start()\n",
    "    b.start()\n",
    "    c.start()\n",
    "    d.start()\n",
    "\n",
    "    a.join()\n",
    "    b.join()\n",
    "    c.join()\n",
    "    d.join()\n",
    "\n",
    "    print(\"finished in :\",time.perf_counter(),\" seconds\")\n",
    "\n",
    "if __name__ =='__main__':\n",
    "    main()"
   ]
  },
  {
   "cell_type": "markdown",
   "id": "a9f4287b",
   "metadata": {},
   "source": [
    "Download multiple files concurrently using threads"
   ]
  },
  {
   "cell_type": "code",
   "execution_count": 12,
   "id": "e1a533b7",
   "metadata": {},
   "outputs": [
    {
     "name": "stdout",
     "output_type": "stream",
     "text": [
      "Collecting requests\n",
      "  Downloading requests-2.32.4-py3-none-any.whl.metadata (4.9 kB)\n",
      "Collecting charset_normalizer<4,>=2 (from requests)\n",
      "  Downloading charset_normalizer-3.4.2-cp310-cp310-win_amd64.whl.metadata (36 kB)\n",
      "Collecting idna<4,>=2.5 (from requests)\n",
      "  Downloading idna-3.10-py3-none-any.whl.metadata (10 kB)\n",
      "Collecting urllib3<3,>=1.21.1 (from requests)\n",
      "  Downloading urllib3-2.4.0-py3-none-any.whl.metadata (6.5 kB)\n",
      "Collecting certifi>=2017.4.17 (from requests)\n",
      "  Downloading certifi-2025.6.15-py3-none-any.whl.metadata (2.4 kB)\n",
      "Downloading requests-2.32.4-py3-none-any.whl (64 kB)\n",
      "Downloading charset_normalizer-3.4.2-cp310-cp310-win_amd64.whl (105 kB)\n",
      "Downloading idna-3.10-py3-none-any.whl (70 kB)\n",
      "Downloading urllib3-2.4.0-py3-none-any.whl (128 kB)\n",
      "Downloading certifi-2025.6.15-py3-none-any.whl (157 kB)\n",
      "Installing collected packages: urllib3, idna, charset_normalizer, certifi, requests\n",
      "\n",
      "   ---------------------------------------- 0/5 [urllib3]\n",
      "   ---------------------------------------- 0/5 [urllib3]\n",
      "   ---------------------------------------- 0/5 [urllib3]\n",
      "   ---------------------------------------- 0/5 [urllib3]\n",
      "   ---------------------------------------- 0/5 [urllib3]\n",
      "   -------- ------------------------------- 1/5 [idna]\n",
      "   ---------------- ----------------------- 2/5 [charset_normalizer]\n",
      "   ---------------- ----------------------- 2/5 [charset_normalizer]\n",
      "   ---------------- ----------------------- 2/5 [charset_normalizer]\n",
      "   ------------------------ --------------- 3/5 [certifi]\n",
      "   -------------------------------- ------- 4/5 [requests]\n",
      "   -------------------------------- ------- 4/5 [requests]\n",
      "   ---------------------------------------- 5/5 [requests]\n",
      "\n",
      "Successfully installed certifi-2025.6.15 charset_normalizer-3.4.2 idna-3.10 requests-2.32.4 urllib3-2.4.0\n"
     ]
    }
   ],
   "source": [
    "!pip install requests\n",
    "\n"
   ]
  },
  {
   "cell_type": "code",
   "execution_count": 15,
   "id": "9a815370",
   "metadata": {},
   "outputs": [
    {
     "name": "stdout",
     "output_type": "stream",
     "text": [
      "python.jpg is downloading...\n",
      "laptop.jpg is downloading...\n",
      "img.jpg is downloading...\n",
      "python.jpg is successfully downloaded.\n",
      "laptop.jpg is successfully downloaded.\n",
      "img.jpg is successfully downloaded.\n"
     ]
    }
   ],
   "source": [
    "import requests\n",
    "import threading\n",
    "\n",
    "def download_file(url, filename):\n",
    "    print(f\"{filename} is downloading...\")\n",
    "    response = requests.get(url)\n",
    "    with open(filename, 'wb') as f:\n",
    "        f.write(response.content)\n",
    "    print(f\"{filename} is successfully downloaded.\")\n",
    "\n",
    "urls= [\n",
    "    (\"https://unsplash.com/photos/a-white-cube-with-a-yellow-and-blue-logo-on-it-ZIPFteu-R8k\",\"python.jpg\"),\n",
    "    (\"https://plus.unsplash.com/premium_photo-1678565999332-1cde462f7b24?w=600&auto=format&fit=crop&q=60&ixlib=rb-4.1.0&ixid=M3wxMjA3fDB8MHxzZWFyY2h8MXx8cHl0aG9uJTIwcHJvZ3JhbW1pbmd8ZW58MHx8MHx8fDA%3D\",\"laptop.jpg\"),\n",
    "    (\"https://images.unsplash.com/photo-1521185496955-15097b20c5fe?w=600&auto=format&fit=crop&q=60&ixlib=rb-4.1.0&ixid=M3wxMjA3fDB8MHxzZWFyY2h8MjB8fHB5dGhvbiUyMHByb2dyYW1taW5nfGVufDB8fDB8fHww\",\"img.jpg\")\n",
    "]\n",
    "\n",
    "threads = []\n",
    "\n",
    "for url, name in urls:\n",
    "    thread = threading.Thread(target=download_file, args=(url,name))\n",
    "    threads.append(thread)\n",
    "    thread.start()\n",
    "\n",
    "for thread in threads:\n",
    "    thread.join()\n"
   ]
  }
 ],
 "metadata": {
  "kernelspec": {
   "display_name": ".venv",
   "language": "python",
   "name": "python3"
  },
  "language_info": {
   "codemirror_mode": {
    "name": "ipython",
    "version": 3
   },
   "file_extension": ".py",
   "mimetype": "text/x-python",
   "name": "python",
   "nbconvert_exporter": "python",
   "pygments_lexer": "ipython3",
   "version": "3.10.0"
  }
 },
 "nbformat": 4,
 "nbformat_minor": 5
}
