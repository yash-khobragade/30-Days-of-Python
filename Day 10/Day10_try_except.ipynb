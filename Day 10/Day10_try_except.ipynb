{
 "cells": [
  {
   "cell_type": "markdown",
   "id": "921b7a2a",
   "metadata": {},
   "source": [
    "Read numbers from a file and handle errors gracefully"
   ]
  },
  {
   "cell_type": "code",
   "execution_count": 4,
   "id": "e59427d9",
   "metadata": {},
   "outputs": [
    {
     "name": "stdout",
     "output_type": "stream",
     "text": [
      "File not found\n",
      "File Closed\n"
     ]
    }
   ],
   "source": [
    "try:\n",
    "    file = open(\"number.txt\", 'r')\n",
    "    total = 0\n",
    "    for line in file:\n",
    "        words = line.split()\n",
    "        for word in words:\n",
    "            try:\n",
    "                total += int(word)\n",
    "                print(\"Adding number: \",word)\n",
    "            except ValueError as e:\n",
    "                print(\"Skipping non-numeric word: \", word)\n",
    "    print(f\"Total is {total}\")\n",
    "except FileNotFoundError:\n",
    "    print(\"File not found\")\n",
    "finally:\n",
    "    file.close()\n",
    "    print(\"File Closed\")\n",
    "\n"
   ]
  },
  {
   "cell_type": "code",
   "execution_count": 5,
   "id": "65d7db45",
   "metadata": {},
   "outputs": [
    {
     "name": "stdout",
     "output_type": "stream",
     "text": [
      "Adding number:  12\n",
      "Skipping non-numeric word:  add\n",
      "Adding number:  10\n",
      "Skipping non-numeric word:  hello\n",
      "Skipping non-numeric word:  kaise\n",
      "Skipping non-numeric word:  ho\n",
      "Adding number:  55\n",
      "Skipping non-numeric word:  milte\n",
      "Adding number:  98\n",
      "Skipping non-numeric word:  hai\n",
      "Total is 175\n",
      "File Closed\n"
     ]
    }
   ],
   "source": [
    "try:\n",
    "    file = open(\"numbers.txt\", 'r')\n",
    "    total = 0\n",
    "    for line in file:\n",
    "        words = line.split()\n",
    "        for word in words:\n",
    "            try:\n",
    "                total += int(word)\n",
    "                print(\"Adding number: \",word)\n",
    "            except ValueError as e:\n",
    "                print(\"Skipping non-numeric word: \", word)\n",
    "    print(f\"Total is {total}\")\n",
    "except FileNotFoundError:\n",
    "    print(\"File not found\")\n",
    "finally:\n",
    "    file.close()\n",
    "    print(\"File Closed\")\n",
    "\n"
   ]
  }
 ],
 "metadata": {
  "kernelspec": {
   "display_name": ".venv",
   "language": "python",
   "name": "python3"
  },
  "language_info": {
   "codemirror_mode": {
    "name": "ipython",
    "version": 3
   },
   "file_extension": ".py",
   "mimetype": "text/x-python",
   "name": "python",
   "nbconvert_exporter": "python",
   "pygments_lexer": "ipython3",
   "version": "3.10.0"
  }
 },
 "nbformat": 4,
 "nbformat_minor": 5
}
