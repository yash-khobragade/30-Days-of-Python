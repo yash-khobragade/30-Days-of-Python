{
 "cells": [
  {
   "cell_type": "markdown",
   "id": "3d3548a0",
   "metadata": {},
   "source": [
    "Exception Handling in Python"
   ]
  },
  {
   "cell_type": "code",
   "execution_count": null,
   "id": "1da3bd55",
   "metadata": {},
   "outputs": [
    {
     "name": "stdout",
     "output_type": "stream",
     "text": [
      "Exception Occured:  division by zero\n",
      "Division is :  None\n"
     ]
    }
   ],
   "source": [
    "# Zero Division Error Exception\n",
    "x = input(\"Enter number 1: \")\n",
    "y = input(\"Enter number 2: \")\n",
    "try:\n",
    "    z = int(x) / int(y)\n",
    "except ZeroDivisionError as e:\n",
    "    print(\"Exception Occured: \",e)\n",
    "    z = None\n",
    "print(\"Division is : \",z)"
   ]
  }
 ],
 "metadata": {
  "kernelspec": {
   "display_name": ".venv",
   "language": "python",
   "name": "python3"
  },
  "language_info": {
   "codemirror_mode": {
    "name": "ipython",
    "version": 3
   },
   "file_extension": ".py",
   "mimetype": "text/x-python",
   "name": "python",
   "nbconvert_exporter": "python",
   "pygments_lexer": "ipython3",
   "version": "3.10.0"
  }
 },
 "nbformat": 4,
 "nbformat_minor": 5
}
