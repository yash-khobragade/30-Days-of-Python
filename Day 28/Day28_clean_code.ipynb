{
 "cells": [
  {
   "cell_type": "markdown",
   "id": "21c60627",
   "metadata": {},
   "source": [
    "Before Clean Code"
   ]
  },
  {
   "cell_type": "code",
   "execution_count": null,
   "id": "63502e99",
   "metadata": {},
   "outputs": [],
   "source": []
  },
  {
   "cell_type": "markdown",
   "id": "d85bd314",
   "metadata": {},
   "source": [
    "After Clean code\n",
    "\n",
    "Clean Code Improvements :                                                                                                                                                                                                                                                                       \n",
    "                         Formatting (PEP8 compliant)                                                                                                                      \n",
    "                         Naming conventions (more descriptive names)                                                                                                 \n",
    "                         Comments for clarity                                                                                                                        \n",
    "                         Structure for readability"
   ]
  },
  {
   "cell_type": "code",
   "execution_count": 4,
   "id": "9d90d56c",
   "metadata": {},
   "outputs": [
    {
     "name": "stdout",
     "output_type": "stream",
     "text": [
      "Good Evening\n",
      "Hello, world!\n",
      "Thank you\n",
      "Execution time: 0.000000 seconds\n",
      "------------------\n",
      "Good Evening\n",
      "5\n",
      "Thank you\n",
      "Execution time: 0.000000 seconds\n",
      "------------------\n"
     ]
    }
   ],
   "source": [
    "import time\n",
    "\n",
    "\n",
    "def greet_decorator(function):\n",
    "    \"\"\"\n",
    "    Decorator that prints a greeting, the result of the function,\n",
    "    a thank-you message, execution time, and a separator line.\n",
    "    \"\"\"\n",
    "\n",
    "    def wrapper(*args, **kwargs):\n",
    "        print(\"Good Evening\")\n",
    "        start_time = time.time()\n",
    "\n",
    "        result = function(*args, **kwargs)\n",
    "\n",
    "        end_time = time.time()\n",
    "        print(\"Thank you\")\n",
    "        print(f\"Execution time: {end_time - start_time:.6f} seconds\")\n",
    "\n",
    "        # Separator line for better output readability\n",
    "        print(\"-\" * 18)\n",
    "\n",
    "        return result\n",
    "\n",
    "    return wrapper\n",
    "\n",
    "\n",
    "@greet_decorator\n",
    "def say_hello():\n",
    "    \"\"\"Prints a simple greeting message.\"\"\"\n",
    "    print(\"Hello, world!\")\n",
    "\n",
    "\n",
    "@greet_decorator\n",
    "def add_numbers(a, b):\n",
    "    \"\"\"Adds two numbers and prints the result.\"\"\"\n",
    "    print(a + b)\n",
    "\n",
    "\n",
    "# Function calls\n",
    "say_hello()\n",
    "add_numbers(2, 3)\n"
   ]
  }
 ],
 "metadata": {
  "kernelspec": {
   "display_name": ".venv",
   "language": "python",
   "name": "python3"
  },
  "language_info": {
   "codemirror_mode": {
    "name": "ipython",
    "version": 3
   },
   "file_extension": ".py",
   "mimetype": "text/x-python",
   "name": "python",
   "nbconvert_exporter": "python",
   "pygments_lexer": "ipython3",
   "version": "3.10.0"
  }
 },
 "nbformat": 4,
 "nbformat_minor": 5
}
